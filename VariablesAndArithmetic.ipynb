{
 "cells": [
  {
   "cell_type": "code",
   "execution_count": 13,
   "id": "8f643cd5-02d8-4a9f-b586-ff41dfe3ebbe",
   "metadata": {},
   "outputs": [
    {
     "data": {
      "text/plain": [
       "7.1"
      ]
     },
     "execution_count": 13,
     "metadata": {},
     "output_type": "execute_result"
    }
   ],
   "source": [
    "a = 7.1\n",
    "b = 0\n",
    "a + b*2"
   ]
  },
  {
   "cell_type": "code",
   "execution_count": 14,
   "id": "2ea3396e-622f-49ec-a681-b9b1a897bf39",
   "metadata": {},
   "outputs": [
    {
     "name": "stdout",
     "output_type": "stream",
     "text": [
      "1\n",
      "1\n"
     ]
    }
   ],
   "source": [
    "mike = 17\n",
    "\n",
    "print( mike*b + 1 )\n",
    "print( mike**b )"
   ]
  },
  {
   "cell_type": "code",
   "execution_count": 20,
   "id": "4be0b690-3724-4967-a6ed-f22e3cb65b67",
   "metadata": {},
   "outputs": [
    {
     "name": "stdout",
     "output_type": "stream",
     "text": [
      "Hello. My name is Mike!\n",
      "I am 10 years old.\n"
     ]
    }
   ],
   "source": [
    "greeting = 'Hello. My name is '\n",
    "name = 'Mike'\n",
    "age = 10\n",
    "\n",
    "print(greeting + name + '!')\n",
    "print('I am ' + str(age) + ' years old.')"
   ]
  },
  {
   "cell_type": "code",
   "execution_count": 28,
   "id": "adf33458-7482-4910-8553-92d4eb9cb239",
   "metadata": {},
   "outputs": [
    {
     "name": "stdout",
     "output_type": "stream",
     "text": [
      "My name is Mike. I am now 10 years old, and in 6 years I'll be  years old.\n"
     ]
    }
   ],
   "source": [
    "# assignment!\n",
    "print('My name is ' + name + '. I am now ' + str(age) + ' years old,' +\n",
    "      ' and in 6 years I\\'ll be ' + ' years old.')"
   ]
  },
  {
   "cell_type": "code",
   "execution_count": null,
   "id": "25d83e8a-d4d6-4ff9-a0e2-8fdd70cf23e1",
   "metadata": {},
   "outputs": [],
   "source": []
  }
 ],
 "metadata": {
  "kernelspec": {
   "display_name": "Python [conda env:base] *",
   "language": "python",
   "name": "conda-base-py"
  },
  "language_info": {
   "codemirror_mode": {
    "name": "ipython",
    "version": 3
   },
   "file_extension": ".py",
   "mimetype": "text/x-python",
   "name": "python",
   "nbconvert_exporter": "python",
   "pygments_lexer": "ipython3",
   "version": "3.13.5"
  }
 },
 "nbformat": 4,
 "nbformat_minor": 5
}
