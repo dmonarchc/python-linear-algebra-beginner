{
 "cells": [
  {
   "cell_type": "code",
   "execution_count": 1,
   "id": "f1420717-7106-486a-924d-4744e4062305",
   "metadata": {},
   "outputs": [
    {
     "data": {
      "text/plain": [
       "[1, 2, 3, 4, 4]"
      ]
     },
     "execution_count": 1,
     "metadata": {},
     "output_type": "execute_result"
    }
   ],
   "source": [
    "numlist = [1,2,3,4,4]\n",
    "numlist"
   ]
  },
  {
   "cell_type": "code",
   "execution_count": 2,
   "id": "ba97de99-574d-49b0-9b09-e29063f91fce",
   "metadata": {},
   "outputs": [
    {
     "data": {
      "text/plain": [
       "np.float64(2.0)"
      ]
     },
     "execution_count": 2,
     "metadata": {},
     "output_type": "execute_result"
    }
   ],
   "source": [
    "import numpy as np\n",
    "\n",
    "np.mean(numlist)\n",
    "np.sqrt(4)"
   ]
  },
  {
   "cell_type": "code",
   "execution_count": 3,
   "id": "529f2c64-5630-48cb-8201-62659b70234e",
   "metadata": {},
   "outputs": [
    {
     "data": {
      "text/plain": [
       "array([ 3.        ,  3.81818182,  4.63636364,  5.45454545,  6.27272727,\n",
       "        7.09090909,  7.90909091,  8.72727273,  9.54545455, 10.36363636,\n",
       "       11.18181818, 12.        ])"
      ]
     },
     "execution_count": 3,
     "metadata": {},
     "output_type": "execute_result"
    }
   ],
   "source": [
    "np.linspace(1,10,12)\n",
    "\n",
    "funout = np.linspace(1,10,12)\n",
    "funout + 2"
   ]
  },
  {
   "cell_type": "code",
   "execution_count": 4,
   "id": "c5c07797-34c9-4f17-93b8-a60459eb4048",
   "metadata": {},
   "outputs": [
    {
     "name": "stdout",
     "output_type": "stream",
     "text": [
      "[  4.          10.85714286  17.71428571  24.57142857  31.42857143\n",
      "  38.28571429  45.14285714  52.          58.85714286  65.71428571\n",
      "  72.57142857  79.42857143  86.28571429  93.14285714 100.        ]\n",
      "[  4.  11.  18.  25.  31.  38.  45.  52.  59.  66.  73.  79.  86.  93.\n",
      " 100.]\n",
      "[ 2.          3.31662479  4.24264069  5.          5.56776436  6.164414\n",
      "  6.70820393  7.21110255  7.68114575  8.1240384   8.54400375  8.88819442\n",
      "  9.2736185   9.64365076 10.        ]\n"
     ]
    }
   ],
   "source": [
    "# assignment!\n",
    "# 1) create a list of 15 numbers from 4 to 100\n",
    "list = np.linspace(4, 100, 15)\n",
    "print(list)\n",
    "# 2) round those numbers to the nearest integer, and store in another variable\n",
    "round = np.rint(list)\n",
    "# 3) print out #2\n",
    "print(round)\n",
    "# 4) print out the square root of each number in the list\n",
    "print(np.sqrt(round))"
   ]
  },
  {
   "cell_type": "code",
   "execution_count": null,
   "id": "b1257152-ce95-4649-9e49-9fc7749ea5fc",
   "metadata": {},
   "outputs": [],
   "source": []
  }
 ],
 "metadata": {
  "kernelspec": {
   "display_name": "Python [conda env:base] *",
   "language": "python",
   "name": "conda-base-py"
  },
  "language_info": {
   "codemirror_mode": {
    "name": "ipython",
    "version": 3
   },
   "file_extension": ".py",
   "mimetype": "text/x-python",
   "name": "python",
   "nbconvert_exporter": "python",
   "pygments_lexer": "ipython3",
   "version": "3.13.5"
  }
 },
 "nbformat": 4,
 "nbformat_minor": 5
}
