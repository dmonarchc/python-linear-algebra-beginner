{
 "cells": [
  {
   "cell_type": "code",
   "execution_count": 2,
   "id": "2272fdc1-2368-4748-b783-a624626cbdcf",
   "metadata": {},
   "outputs": [],
   "source": [
    "import numpy as np"
   ]
  },
  {
   "cell_type": "code",
   "execution_count": 3,
   "id": "b06f4221-00ae-4250-a4bc-1e9a3f40de12",
   "metadata": {},
   "outputs": [
    {
     "data": {
      "text/plain": [
       "array([[1., 0., 0.],\n",
       "       [0., 1., 0.],\n",
       "       [0., 0., 1.]])"
      ]
     },
     "execution_count": 3,
     "metadata": {},
     "output_type": "execute_result"
    }
   ],
   "source": [
    "np.eye(3)"
   ]
  },
  {
   "cell_type": "code",
   "execution_count": 4,
   "id": "63d71d48-dd18-426a-95aa-72a98b2631fe",
   "metadata": {},
   "outputs": [
    {
     "data": {
      "text/plain": [
       "array([[0., 0., 0., 0.],\n",
       "       [0., 0., 0., 0.],\n",
       "       [0., 0., 0., 0.]])"
      ]
     },
     "execution_count": 4,
     "metadata": {},
     "output_type": "execute_result"
    }
   ],
   "source": [
    "np.zeros((3,4))"
   ]
  },
  {
   "cell_type": "code",
   "execution_count": 5,
   "id": "590f21c3-368c-4cdc-a19e-9a268fb4b802",
   "metadata": {},
   "outputs": [
    {
     "data": {
      "text/plain": [
       "array([[17, 17],\n",
       "       [17, 17],\n",
       "       [17, 17],\n",
       "       [17, 17],\n",
       "       [17, 17]])"
      ]
     },
     "execution_count": 5,
     "metadata": {},
     "output_type": "execute_result"
    }
   ],
   "source": [
    "np.full((5,2),17)"
   ]
  },
  {
   "cell_type": "code",
   "execution_count": 6,
   "id": "14deb7e0-598c-47c8-80d8-8b77b9325e22",
   "metadata": {},
   "outputs": [
    {
     "name": "stdout",
     "output_type": "stream",
     "text": [
      "[[1 2 3]\n",
      " [4 5 6]\n",
      " [7 8 9]]\n"
     ]
    }
   ],
   "source": [
    "M = np.array([[1,2,3],[4,5,6],[7,8,9]])\n",
    "\n",
    "print(M)"
   ]
  },
  {
   "cell_type": "code",
   "execution_count": 15,
   "id": "26a8f73e-bd9b-4bb6-bfa8-9682d22c1d36",
   "metadata": {},
   "outputs": [
    {
     "name": "stdout",
     "output_type": "stream",
     "text": [
      "[[12 21]\n",
      " [18 24]]\n",
      "[[63 21]\n",
      " [14  0]]\n",
      "[[48  6 42]\n",
      " [30 12 48]]\n"
     ]
    }
   ],
   "source": [
    "# assignment!\n",
    "# 1)create 3 matrices: 2x2, 2x2, 3x2\n",
    "M1 = np.array([[4,7],[6,8]])\n",
    "M2 = np.array([[9,3],[2,0]])\n",
    "M3 = np.array([[8,1,7],[5,2,8]])\n",
    "# 2)compute scalar-matrix multiplication\n",
    "print(np.multiply(M1, 3))\n",
    "print(np.multiply(M2, 7))\n",
    "print(np.multiply(M3, 6))\n",
    "# 3) add all pairs of matrices"
   ]
  }
 ],
 "metadata": {
  "kernelspec": {
   "display_name": "Python [conda env:base] *",
   "language": "python",
   "name": "conda-base-py"
  },
  "language_info": {
   "codemirror_mode": {
    "name": "ipython",
    "version": 3
   },
   "file_extension": ".py",
   "mimetype": "text/x-python",
   "name": "python",
   "nbconvert_exporter": "python",
   "pygments_lexer": "ipython3",
   "version": "3.13.5"
  }
 },
 "nbformat": 4,
 "nbformat_minor": 5
}
